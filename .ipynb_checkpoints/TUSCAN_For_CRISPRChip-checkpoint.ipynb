{
 "cells": [
  {
   "cell_type": "markdown",
   "metadata": {},
   "source": [
    "# Identifying CRISPR-Cas9 target-sites unique to H1N1 (Swine Flu) and H5N1 (Avian Flu)\n",
    "\n",
    "This is the Jupyter notebook for comparing two queries sent to TUSCAN's API, to find target sites specific to one virus with minimal off-targets in another. \n",
    "\n",
    "Our usecase here is to be able to identify and separate between viruses. This is achieved by finding targets specific to one virus but not another, such that binding of the CRISPR-Cas9 complex to the target site triggers a response detected by the user, identifying the virus. "
   ]
  },
  {
   "cell_type": "markdown",
   "metadata": {},
   "source": [
    "## Getting Started\n",
    "\n",
    "We start by importing the libraries responsible for recieveing, processing and plotting the data."
   ]
  },
  {
   "cell_type": "code",
   "execution_count": 77,
   "metadata": {},
   "outputs": [],
   "source": [
    "import sys\n",
    "import matplotlib.pyplot as plt\n",
    "import matplotlib.patches as patches\n",
    "import numpy as np\n",
    "import seaborn as sns; sns.set()\n",
    "import pandas as pd\n",
    "import requests\n",
    "from pandas.io.json import json_normalize\n",
    "import warnings\n",
    "warnings.simplefilter(action='ignore', category=FutureWarning)\n",
    "warnings.simplefilter(action='ignore', category=UserWarning)\n",
    "pd.options.mode.chained_assignment = None #default = 'warn'"
   ]
  },
  {
   "cell_type": "markdown",
   "metadata": {},
   "source": [
    "## Submitting to TUSCAN API\n",
    "\n",
    "We submit two 'POST' requets to TUSCAN's API specifying the viral genomes we wish to compare. In this example we compare segment 8 of H1N1 (Swine Flu) to segment 8 of H5N1(Avian Flu)"
   ]
  },
  {
   "cell_type": "code",
   "execution_count": 44,
   "metadata": {},
   "outputs": [],
   "source": [
    "H5N1_sequence = \"AGCAAAAGCAGGGTGACAAAAACATAATGGATTCCAACACTGTGTCAAGCTTTCAGGTAGACTGCTTTCTTTGGCATGTCCGCAAACGATTTGCAGACCAAGAACTGGGTGATGCCCCATTCCTTGACCGGCTTCGCCGAGATCAGAAGTCCCTAAGAGGAAGAGGCAACACTCTTGGTCTGGACATCGAAACAGCTACTCGCGCAGGAAAGCAAATAGTGGAGCGGATTCTGGAGGAGGAGTCCGATAAGGCACTTAAAATGCCGGCTTCACGCTACCTAACTGACATGACTCTCGAAGAAATGTCAAGGGACTGGTTCATGCTCATGCCCAAGCAGAAAGTGGCAGGTTCCCTTTGCATCAAAATGGACCAGGCAATAATGGATAAAGTCATCATATTGAAAGCAAACTTCAGTGTGATTTTTGACCGGTTGGAAACCCTAATACTACTTAGAGCTTTCACAGAAGAAGGAGCAATCGTGGGAGAAATCTCACCATTACCTTCTCTTCCAGGACATACTGGTGAGGATGTCAAAAATGCAATTGGCGTCCTCATCGGAGGACTTGAATGGAATGATAACACAGTTCGAGTCACTGAAACTATACAGAGATTCGTTTGGAGAAGCAGTGATGAGGATGGGAGACTTCCACTCCCTCCAAATCAAAAACGGAAAATGGCGAGAACAATTGAGTCAGAAGTTTGAAGAAATAAGGTGGCTGATTGAAGAAGTAAGACATAGATTGAAAATTACAGAAAACAGCTTCGAACAGATAACGTTTATGCAAGCCTTACAACTACTGCTTGAAGTGGAGCAAGAGATAAGAGCCTTCTCGTTTCAGCTTATTTAATGATAAAAAACACCCTTGTTTCTACT\"\n",
    "H1N1_sequence = \"ATGGACTCCAACACCATGTCAAGCTTTCAGGTAGACTGTTTCCTTTGGCATATCCGCAAGCGATTTGCAGACAATGGACTGGGTGATGCCCCATTCCTTGATCGGCTCCGCCGAGATCAAAAGTCCTTAAAAGGAAGAGGCAACACCCTTGGCCTCGACATCGAAACAGCCACTCTTGTTGGGAAACAAATCGTGGAATGGATCTTGAAAGAGGAATCCAGCGAGACACTTAGAATGACAATTGCATCTGTACCTACTTCGCGTTACCTTTCTGACATGACCCTCGAGGAAATGTCACGAGACTGGTTCACGCTCATGCCTAGGCAAAAGATAATAGGCCCTCTTTGCGTGCGATTGGACCAGGCGGTCATGGAAAAGAACATAGTACTGAAAGCGAACTTCAGTGTAATCTTCAACCGATTAGAGACCTTGATACTACTAAGGGCTTTCACTGAGGAGGGAGCAATAGTTGGAGAAATTTCACCATTACCTTCTCTTCCAGGACATACTTATGAGGATGTCAAAAATGCAGTTGGGGTCCTCATCGGAGGACTTGAATGGAATGGTAACACGGTTCGAGTCTCTGAAAATATACAGAGATTCGCTTGGAGAAACTGTGATGAGAATGGGAGACCTTCACTACCTCCAGAGCAGAAATGAAAAGTGGCGAGAGCAATTGGGACAGAAATTTGAGGAAATAAGGTGGTTAATTGAAGAAATGCGACACAGATTGAAAGCGACAGAAAATAGTTTCGAACAAATAACATTTATGCAAGCCTTACAACTACTGCTTGAAGTAGAACAAGAGATAAGAGCTTTCTCGTTTCAGCTTATTTAATGATA\"\n",
    "\n",
    "base_url = \"https://rylyx4l7j3.execute-api.ap-southeast-2.amazonaws.com/prod\"\n",
    "submit_url = '{}/submit'.format(base_url)\n",
    "\n",
    "H5N1_8 = '{{\\n \\\"{}\\\": \\\"{}\\\"\\n}}'.format(\"sequence\", H5N1_sequence)\n",
    "H1N1_8 = '{{\\n \\\"{}\\\": \\\"{}\\\"\\n}}'.format(\"sequence\", H1N1_sequence)\n",
    "\n",
    "H5N1_post_response = requests.post(submit_url, data=H5N1_8)\n",
    "H1N1_post_response = requests.post(submit_url, data=H1N1_8)\n"
   ]
  },
  {
   "cell_type": "markdown",
   "metadata": {},
   "source": [
    "## Confirming submission\n",
    "\n",
    "TUSCAN returns a JobID that is needed to retrieve results\n",
    "\n"
   ]
  },
  {
   "cell_type": "code",
   "execution_count": 45,
   "metadata": {},
   "outputs": [
    {
     "data": {
      "text/plain": [
       "'gt4198697'"
      ]
     },
     "execution_count": 45,
     "metadata": {},
     "output_type": "execute_result"
    }
   ],
   "source": [
    "H5N1_job = H5N1_post_response.json()\n",
    "H5N1_id = H5N1_job['JobID']\n",
    "H5N1_id"
   ]
  },
  {
   "cell_type": "code",
   "execution_count": 46,
   "metadata": {},
   "outputs": [
    {
     "data": {
      "text/plain": [
       "'gt4478947'"
      ]
     },
     "execution_count": 46,
     "metadata": {},
     "output_type": "execute_result"
    }
   ],
   "source": [
    "H1N1_job = H1N1_post_response.json()\n",
    "H1N1_id = H1N1_job['JobID']\n",
    "H1N1_id"
   ]
  },
  {
   "cell_type": "markdown",
   "metadata": {},
   "source": [
    "## Retrieving results\n",
    "\n",
    "We use the 'GET' function to obtain the results\n"
   ]
  },
  {
   "cell_type": "code",
   "execution_count": 51,
   "metadata": {},
   "outputs": [
    {
     "name": "stdout",
     "output_type": "stream",
     "text": [
      "81 out of 81 targets are complete\n"
     ]
    }
   ],
   "source": [
    "H1N1_url = '{}/results/{}/targets'.format(base_url, H1N1_id)\n",
    "H1N1_targets_response = requests.get(H1N1_url)\n",
    "H1N1_x = H1N1_targets_response.json()\n",
    "\n",
    "activities = [i['tuscan'] != '' for i in H1N1_x['data']]\n",
    "print('{} out of {} targets are complete'.format(sum(activities), len(activities)))"
   ]
  },
  {
   "cell_type": "code",
   "execution_count": 50,
   "metadata": {},
   "outputs": [
    {
     "name": "stdout",
     "output_type": "stream",
     "text": [
      "79 out of 79 targets are complete\n"
     ]
    }
   ],
   "source": [
    "H5N1_url = '{}/results/{}/targets'.format(base_url, H5N1_id)\n",
    "H5N1_targets_response = requests.get(H5N1_url)\n",
    "H5N1_x = H5N1_targets_response.json()\n",
    "\n",
    "activities = [i['tuscan'] != '' for i in H5N1_x['data']]\n",
    "print('{} out of {} targets are complete'.format(sum(activities), len(activities)))"
   ]
  },
  {
   "cell_type": "markdown",
   "metadata": {},
   "source": [
    "## Analysing the data\n",
    "\n",
    "We first load the data into a pandas dataframe. "
   ]
  },
  {
   "cell_type": "code",
   "execution_count": 60,
   "metadata": {},
   "outputs": [
    {
     "data": {
      "text/html": [
       "<div>\n",
       "<style scoped>\n",
       "    .dataframe tbody tr th:only-of-type {\n",
       "        vertical-align: middle;\n",
       "    }\n",
       "\n",
       "    .dataframe tbody tr th {\n",
       "        vertical-align: top;\n",
       "    }\n",
       "\n",
       "    .dataframe thead th {\n",
       "        text-align: right;\n",
       "    }\n",
       "</style>\n",
       "<table border=\"1\" class=\"dataframe\">\n",
       "  <thead>\n",
       "    <tr style=\"text-align: right;\">\n",
       "      <th></th>\n",
       "      <th>gc</th>\n",
       "      <th>location</th>\n",
       "      <th>position</th>\n",
       "      <th>sequence</th>\n",
       "      <th>strand</th>\n",
       "      <th>tuscan</th>\n",
       "    </tr>\n",
       "  </thead>\n",
       "  <tbody>\n",
       "    <tr>\n",
       "      <th>0</th>\n",
       "      <td>47.826087</td>\n",
       "      <td>9</td>\n",
       "      <td>8</td>\n",
       "      <td>CAACACCATGTCAAGCTTTCAGG</td>\n",
       "      <td>+</td>\n",
       "      <td>0.864756</td>\n",
       "    </tr>\n",
       "    <tr>\n",
       "      <th>1</th>\n",
       "      <td>47.826087</td>\n",
       "      <td>8</td>\n",
       "      <td>7</td>\n",
       "      <td>CTGAAAGCTTGACATGGTGTTGG</td>\n",
       "      <td>-</td>\n",
       "      <td>0.829917</td>\n",
       "    </tr>\n",
       "    <tr>\n",
       "      <th>2</th>\n",
       "      <td>47.826087</td>\n",
       "      <td>14</td>\n",
       "      <td>13</td>\n",
       "      <td>GTCTACCTGAAAGCTTGACATGG</td>\n",
       "      <td>-</td>\n",
       "      <td>0.445247</td>\n",
       "    </tr>\n",
       "    <tr>\n",
       "      <th>3</th>\n",
       "      <td>43.478261</td>\n",
       "      <td>26</td>\n",
       "      <td>25</td>\n",
       "      <td>TTCAGGTAGACTGTTTCCTTTGG</td>\n",
       "      <td>+</td>\n",
       "      <td>0.362236</td>\n",
       "    </tr>\n",
       "    <tr>\n",
       "      <th>4</th>\n",
       "      <td>52.173913</td>\n",
       "      <td>42</td>\n",
       "      <td>41</td>\n",
       "      <td>ATCGCTTGCGGATATGCCAAAGG</td>\n",
       "      <td>-</td>\n",
       "      <td>1.048918</td>\n",
       "    </tr>\n",
       "  </tbody>\n",
       "</table>\n",
       "</div>"
      ],
      "text/plain": [
       "          gc  location  position                 sequence strand    tuscan\n",
       "0  47.826087         9         8  CAACACCATGTCAAGCTTTCAGG      +  0.864756\n",
       "1  47.826087         8         7  CTGAAAGCTTGACATGGTGTTGG      -  0.829917\n",
       "2  47.826087        14        13  GTCTACCTGAAAGCTTGACATGG      -  0.445247\n",
       "3  43.478261        26        25  TTCAGGTAGACTGTTTCCTTTGG      +  0.362236\n",
       "4  52.173913        42        41  ATCGCTTGCGGATATGCCAAAGG      -  1.048918"
      ]
     },
     "execution_count": 60,
     "metadata": {},
     "output_type": "execute_result"
    }
   ],
   "source": [
    "H1N1_8 = pd.DataFrame(json_normalize(H1N1_targets_response.json(), 'data'))\n",
    "H1N1_8.head()"
   ]
  },
  {
   "cell_type": "code",
   "execution_count": 58,
   "metadata": {},
   "outputs": [
    {
     "data": {
      "text/html": [
       "<div>\n",
       "<style scoped>\n",
       "    .dataframe tbody tr th:only-of-type {\n",
       "        vertical-align: middle;\n",
       "    }\n",
       "\n",
       "    .dataframe tbody tr th {\n",
       "        vertical-align: top;\n",
       "    }\n",
       "\n",
       "    .dataframe thead th {\n",
       "        text-align: right;\n",
       "    }\n",
       "</style>\n",
       "<table border=\"1\" class=\"dataframe\">\n",
       "  <thead>\n",
       "    <tr style=\"text-align: right;\">\n",
       "      <th></th>\n",
       "      <th>gc</th>\n",
       "      <th>location</th>\n",
       "      <th>position</th>\n",
       "      <th>sequence</th>\n",
       "      <th>strand</th>\n",
       "      <th>tuscan</th>\n",
       "    </tr>\n",
       "  </thead>\n",
       "  <tbody>\n",
       "    <tr>\n",
       "      <th>0</th>\n",
       "      <td>43.478261</td>\n",
       "      <td>8</td>\n",
       "      <td>7</td>\n",
       "      <td>GCAGGGTGACAAAAACATAATGG</td>\n",
       "      <td>+</td>\n",
       "      <td>1.512253</td>\n",
       "    </tr>\n",
       "    <tr>\n",
       "      <th>1</th>\n",
       "      <td>47.826087</td>\n",
       "      <td>35</td>\n",
       "      <td>34</td>\n",
       "      <td>CAACACTGTGTCAAGCTTTCAGG</td>\n",
       "      <td>+</td>\n",
       "      <td>0.669962</td>\n",
       "    </tr>\n",
       "    <tr>\n",
       "      <th>2</th>\n",
       "      <td>47.826087</td>\n",
       "      <td>34</td>\n",
       "      <td>33</td>\n",
       "      <td>CTGAAAGCTTGACACAGTGTTGG</td>\n",
       "      <td>-</td>\n",
       "      <td>0.897817</td>\n",
       "    </tr>\n",
       "    <tr>\n",
       "      <th>3</th>\n",
       "      <td>43.478261</td>\n",
       "      <td>52</td>\n",
       "      <td>51</td>\n",
       "      <td>TTCAGGTAGACTGCTTTCTTTGG</td>\n",
       "      <td>+</td>\n",
       "      <td>0.370121</td>\n",
       "    </tr>\n",
       "    <tr>\n",
       "      <th>4</th>\n",
       "      <td>52.173913</td>\n",
       "      <td>80</td>\n",
       "      <td>79</td>\n",
       "      <td>CTTGGTCTGCAAATCGTTTGCGG</td>\n",
       "      <td>-</td>\n",
       "      <td>2.979192</td>\n",
       "    </tr>\n",
       "  </tbody>\n",
       "</table>\n",
       "</div>"
      ],
      "text/plain": [
       "          gc  location  position                 sequence strand    tuscan\n",
       "0  43.478261         8         7  GCAGGGTGACAAAAACATAATGG      +  1.512253\n",
       "1  47.826087        35        34  CAACACTGTGTCAAGCTTTCAGG      +  0.669962\n",
       "2  47.826087        34        33  CTGAAAGCTTGACACAGTGTTGG      -  0.897817\n",
       "3  43.478261        52        51  TTCAGGTAGACTGCTTTCTTTGG      +  0.370121\n",
       "4  52.173913        80        79  CTTGGTCTGCAAATCGTTTGCGG      -  2.979192"
      ]
     },
     "execution_count": 58,
     "metadata": {},
     "output_type": "execute_result"
    }
   ],
   "source": [
    "H5N1_8 = pd.DataFrame(json_normalize(H5N1_targets_response.json(), 'data'))\n",
    "H5N1_8.head()"
   ]
  },
  {
   "cell_type": "markdown",
   "metadata": {},
   "source": [
    "## Identify targets unique to H1N1 segment 8\n",
    "\n",
    "We join the tables and exclude those targets from H1N1 which also appear in H5N1"
   ]
  },
  {
   "cell_type": "code",
   "execution_count": 63,
   "metadata": {},
   "outputs": [],
   "source": [
    "H1N1_8_unique = H1N1_8[~H1N1_8.sequence.isin(H5N1_8.sequence)]"
   ]
  },
  {
   "cell_type": "markdown",
   "metadata": {},
   "source": [
    "## Identify targets unique to H5N1 segment 8\n",
    "\n",
    "We join the tables and exclude those targets from H5N1 which also appear in H1N1"
   ]
  },
  {
   "cell_type": "code",
   "execution_count": 66,
   "metadata": {},
   "outputs": [],
   "source": [
    "H5N1_8_unique = H5N1_8[~H5N1_8.sequence.isin(H1N1_8.sequence)]"
   ]
  },
  {
   "cell_type": "markdown",
   "metadata": {},
   "source": [
    "## Generating a heatmap to identify similar targets in H1N1 and H5N1 using Hamming Distance\n",
    "\n",
    "Targets which have off-targets on the other virus are poor choices due to false positives, therefore we desire the most unique targets from each virus. These targets are those with the highest hamming distance from all targets in the other viral segment. From these, we desire the targets with the highest activity, ie the most likely to be effectively activated by CRISPR treatment."
   ]
  },
  {
   "cell_type": "code",
   "execution_count": 64,
   "metadata": {},
   "outputs": [
    {
     "data": {
      "text/html": [
       "<div>\n",
       "<style scoped>\n",
       "    .dataframe tbody tr th:only-of-type {\n",
       "        vertical-align: middle;\n",
       "    }\n",
       "\n",
       "    .dataframe tbody tr th {\n",
       "        vertical-align: top;\n",
       "    }\n",
       "\n",
       "    .dataframe thead th {\n",
       "        text-align: right;\n",
       "    }\n",
       "</style>\n",
       "<table border=\"1\" class=\"dataframe\">\n",
       "  <thead>\n",
       "    <tr style=\"text-align: right;\">\n",
       "      <th></th>\n",
       "      <th>location</th>\n",
       "      <th>sequence</th>\n",
       "      <th>strand</th>\n",
       "      <th>tuscan</th>\n",
       "    </tr>\n",
       "  </thead>\n",
       "  <tbody>\n",
       "    <tr>\n",
       "      <th>0</th>\n",
       "      <td>673</td>\n",
       "      <td>GCAATTGGGACAGAAATTTGAGG</td>\n",
       "      <td>+</td>\n",
       "      <td>3.753607</td>\n",
       "    </tr>\n",
       "    <tr>\n",
       "      <th>1</th>\n",
       "      <td>529</td>\n",
       "      <td>GCAGTTGGGGTCCTCATCGGAGG</td>\n",
       "      <td>+</td>\n",
       "      <td>3.237376</td>\n",
       "    </tr>\n",
       "    <tr>\n",
       "      <th>2</th>\n",
       "      <td>108</td>\n",
       "      <td>TTAAGGACTTTTGATCTCGGCGG</td>\n",
       "      <td>-</td>\n",
       "      <td>3.131050</td>\n",
       "    </tr>\n",
       "    <tr>\n",
       "      <th>3</th>\n",
       "      <td>435</td>\n",
       "      <td>ACTACTAAGGGCTTTCACTGAGG</td>\n",
       "      <td>+</td>\n",
       "      <td>2.967116</td>\n",
       "    </tr>\n",
       "    <tr>\n",
       "      <th>4</th>\n",
       "      <td>345</td>\n",
       "      <td>TTGCGTGCGATTGGACCAGGCGG</td>\n",
       "      <td>+</td>\n",
       "      <td>2.854431</td>\n",
       "    </tr>\n",
       "  </tbody>\n",
       "</table>\n",
       "</div>"
      ],
      "text/plain": [
       "   location                 sequence strand    tuscan\n",
       "0       673  GCAATTGGGACAGAAATTTGAGG      +  3.753607\n",
       "1       529  GCAGTTGGGGTCCTCATCGGAGG      +  3.237376\n",
       "2       108  TTAAGGACTTTTGATCTCGGCGG      -  3.131050\n",
       "3       435  ACTACTAAGGGCTTTCACTGAGG      +  2.967116\n",
       "4       345  TTGCGTGCGATTGGACCAGGCGG      +  2.854431"
      ]
     },
     "execution_count": 64,
     "metadata": {},
     "output_type": "execute_result"
    }
   ],
   "source": [
    "#sorting dataset by TUSCAN score\n",
    "H1N1 = H1N1_8_unique.sort_values(by=[\"tuscan\"], ascending=False)\n",
    "H1N1 = H1N1.reset_index(drop=True)\n",
    "H1N1.head()"
   ]
  },
  {
   "cell_type": "code",
   "execution_count": 67,
   "metadata": {},
   "outputs": [
    {
     "data": {
      "text/html": [
       "<div>\n",
       "<style scoped>\n",
       "    .dataframe tbody tr th:only-of-type {\n",
       "        vertical-align: middle;\n",
       "    }\n",
       "\n",
       "    .dataframe tbody tr th {\n",
       "        vertical-align: top;\n",
       "    }\n",
       "\n",
       "    .dataframe thead th {\n",
       "        text-align: right;\n",
       "    }\n",
       "</style>\n",
       "<table border=\"1\" class=\"dataframe\">\n",
       "  <thead>\n",
       "    <tr style=\"text-align: right;\">\n",
       "      <th></th>\n",
       "      <th>location</th>\n",
       "      <th>sequence</th>\n",
       "      <th>strand</th>\n",
       "      <th>tuscan</th>\n",
       "    </tr>\n",
       "  </thead>\n",
       "  <tbody>\n",
       "    <tr>\n",
       "      <th>0</th>\n",
       "      <td>215</td>\n",
       "      <td>AATAGTGGAGCGGATTCTGGAGG</td>\n",
       "      <td>+</td>\n",
       "      <td>4.038496</td>\n",
       "    </tr>\n",
       "    <tr>\n",
       "      <th>1</th>\n",
       "      <td>138</td>\n",
       "      <td>CGAGATCAGAAGTCCCTAAGAGG</td>\n",
       "      <td>+</td>\n",
       "      <td>4.030050</td>\n",
       "    </tr>\n",
       "    <tr>\n",
       "      <th>2</th>\n",
       "      <td>540</td>\n",
       "      <td>GCAATTGGCGTCCTCATCGGAGG</td>\n",
       "      <td>+</td>\n",
       "      <td>3.244155</td>\n",
       "    </tr>\n",
       "    <tr>\n",
       "      <th>3</th>\n",
       "      <td>80</td>\n",
       "      <td>CTTGGTCTGCAAATCGTTTGCGG</td>\n",
       "      <td>-</td>\n",
       "      <td>2.979192</td>\n",
       "    </tr>\n",
       "    <tr>\n",
       "      <th>4</th>\n",
       "      <td>230</td>\n",
       "      <td>TCTGGAGGAGGAGTCCGATAAGG</td>\n",
       "      <td>+</td>\n",
       "      <td>2.856133</td>\n",
       "    </tr>\n",
       "  </tbody>\n",
       "</table>\n",
       "</div>"
      ],
      "text/plain": [
       "   location                 sequence strand    tuscan\n",
       "0       215  AATAGTGGAGCGGATTCTGGAGG      +  4.038496\n",
       "1       138  CGAGATCAGAAGTCCCTAAGAGG      +  4.030050\n",
       "2       540  GCAATTGGCGTCCTCATCGGAGG      +  3.244155\n",
       "3        80  CTTGGTCTGCAAATCGTTTGCGG      -  2.979192\n",
       "4       230  TCTGGAGGAGGAGTCCGATAAGG      +  2.856133"
      ]
     },
     "execution_count": 67,
     "metadata": {},
     "output_type": "execute_result"
    }
   ],
   "source": [
    "H5N1 = H5N1_8_unique.sort_values(by=[\"tuscan\"], ascending=False)\n",
    "H5N1 = H5N1.reset_index(drop=True)\n",
    "H5N1.head()"
   ]
  },
  {
   "cell_type": "code",
   "execution_count": 68,
   "metadata": {},
   "outputs": [],
   "source": [
    "# Creating a Hamming Distance Matrix using the targets ordered as above\n",
    "HammingMatrix = []\n",
    "HammingRow = []\n",
    "for index_H5N1, row_H5N1 in H5N1.iterrows():\n",
    "    HammingRow = []\n",
    "    for index_H1N1, row_H1N1 in H1N1.iterrows():\n",
    "        #Calculate Hamming Distance\n",
    "        x = sum(ch1 != ch2 for ch1, ch2 in zip(row_H5N1[\"sequence\"], row_H1N1[\"sequence\"])) \n",
    "        if x > 5: #All targets with more than 5 nucleotides different are considered unique enough\n",
    "            x = 6\n",
    "        HammingRow.append(x)\n",
    "    HammingMatrix.append(HammingRow) \n",
    "\n",
    "HammingMatrix = np.array(HammingMatrix)"
   ]
  },
  {
   "cell_type": "markdown",
   "metadata": {},
   "source": [
    "### Using the HammingMatrix, we can create a heatmap \n",
    "\n",
    "The colour of the square indicates the similarity between the coordinate targets. Ideal targets are those which have no dark squares in their column/row.\n"
   ]
  },
  {
   "cell_type": "code",
   "execution_count": 70,
   "metadata": {},
   "outputs": [
    {
     "data": {
      "image/png": "[encoded data removed]",
      "text/plain": [
       "<Figure size 1440x1080 with 2 Axes>"
      ]
     },
     "metadata": {
      "needs_background": "light"
     },
     "output_type": "display_data"
    }
   ],
   "source": [
    "f, ax = plt.subplots(1, 1, figsize = (20, 15))\n",
    "ax = sns.heatmap(HammingMatrix, cbar_kws={'label': 'Hamming Distance'})\n",
    "ax.set_xticks(np.arange(len(H1N1.index))) #columns are H1N1\n",
    "ax.set_yticks(np.arange(len(H5N1.index))) #rows are H5N1\n",
    "ax.set_xticklabels([round(float(row[\"tuscan\"]), 3) for index, row in H1N1.iterrows()], rotation=90, fontsize = 'small')\n",
    "ax.set_yticklabels([round(float(row[\"tuscan\"]), 3) for index, row in H5N1.iterrows()], rotation=0, fontsize = 'small')\n",
    "ax.set_title(\"Similarity between Segment 8 in H1N1 and H5N1\")\n",
    "ax.set(xlabel=\"H1N1 Segment 8 Targets (by TUSCAN score)\", ylabel=\"H5N1 Segment 8 Targets (by TUSCAN score)\")\n",
    "plt.show()"
   ]
  },
  {
   "cell_type": "markdown",
   "metadata": {},
   "source": [
    "## Extracting the most active and most unique targets from each virus\n",
    "\n",
    "We would like the targets with the highest TUSCAN score and with a hamming distance of at least 6 against all opposing viral targets. "
   ]
  },
  {
   "cell_type": "markdown",
   "metadata": {},
   "source": [
    "##### H1N1 Targets:"
   ]
  },
  {
   "cell_type": "code",
   "execution_count": 71,
   "metadata": {},
   "outputs": [
    {
     "data": {
      "text/html": [
       "<div>\n",
       "<style scoped>\n",
       "    .dataframe tbody tr th:only-of-type {\n",
       "        vertical-align: middle;\n",
       "    }\n",
       "\n",
       "    .dataframe tbody tr th {\n",
       "        vertical-align: top;\n",
       "    }\n",
       "\n",
       "    .dataframe thead th {\n",
       "        text-align: right;\n",
       "    }\n",
       "</style>\n",
       "<table border=\"1\" class=\"dataframe\">\n",
       "  <thead>\n",
       "    <tr style=\"text-align: right;\">\n",
       "      <th></th>\n",
       "      <th>location</th>\n",
       "      <th>sequence</th>\n",
       "      <th>strand</th>\n",
       "      <th>tuscan</th>\n",
       "      <th>Discriminative</th>\n",
       "    </tr>\n",
       "  </thead>\n",
       "  <tbody>\n",
       "    <tr>\n",
       "      <th>0</th>\n",
       "      <td>673</td>\n",
       "      <td>GCAATTGGGACAGAAATTTGAGG</td>\n",
       "      <td>+</td>\n",
       "      <td>3.753607</td>\n",
       "      <td>High</td>\n",
       "    </tr>\n",
       "    <tr>\n",
       "      <th>1</th>\n",
       "      <td>529</td>\n",
       "      <td>GCAGTTGGGGTCCTCATCGGAGG</td>\n",
       "      <td>+</td>\n",
       "      <td>3.237376</td>\n",
       "      <td>Low</td>\n",
       "    </tr>\n",
       "    <tr>\n",
       "      <th>2</th>\n",
       "      <td>108</td>\n",
       "      <td>TTAAGGACTTTTGATCTCGGCGG</td>\n",
       "      <td>-</td>\n",
       "      <td>3.131050</td>\n",
       "      <td>High</td>\n",
       "    </tr>\n",
       "    <tr>\n",
       "      <th>3</th>\n",
       "      <td>435</td>\n",
       "      <td>ACTACTAAGGGCTTTCACTGAGG</td>\n",
       "      <td>+</td>\n",
       "      <td>2.967116</td>\n",
       "      <td>High</td>\n",
       "    </tr>\n",
       "    <tr>\n",
       "      <th>4</th>\n",
       "      <td>345</td>\n",
       "      <td>TTGCGTGCGATTGGACCAGGCGG</td>\n",
       "      <td>+</td>\n",
       "      <td>2.854431</td>\n",
       "      <td>High</td>\n",
       "    </tr>\n",
       "  </tbody>\n",
       "</table>\n",
       "</div>"
      ],
      "text/plain": [
       "   location                 sequence strand    tuscan Discriminative\n",
       "0       673  GCAATTGGGACAGAAATTTGAGG      +  3.753607           High\n",
       "1       529  GCAGTTGGGGTCCTCATCGGAGG      +  3.237376            Low\n",
       "2       108  TTAAGGACTTTTGATCTCGGCGG      -  3.131050           High\n",
       "3       435  ACTACTAAGGGCTTTCACTGAGG      +  2.967116           High\n",
       "4       345  TTGCGTGCGATTGGACCAGGCGG      +  2.854431           High"
      ]
     },
     "execution_count": 71,
     "metadata": {},
     "output_type": "execute_result"
    }
   ],
   "source": [
    "indexes = []\n",
    "for count, b in enumerate(HammingMatrix.min(axis=0)):\n",
    "    if b == 6:\n",
    "        indexes.append(count)\n",
    "H1N1.iloc[indexes].head()\n",
    "\n",
    "for index, row in H1N1.iterrows():\n",
    "    if index in indexes:\n",
    "        H1N1.loc[index,'Discriminative'] = \"High\"\n",
    "    else:\n",
    "        H1N1.loc[index,'Discriminative'] = \"Low\"\n",
    "\n",
    "H1N1.head()"
   ]
  },
  {
   "cell_type": "markdown",
   "metadata": {},
   "source": [
    "##### H5N1 Targets:"
   ]
  },
  {
   "cell_type": "code",
   "execution_count": 72,
   "metadata": {},
   "outputs": [
    {
     "data": {
      "text/html": [
       "<div>\n",
       "<style scoped>\n",
       "    .dataframe tbody tr th:only-of-type {\n",
       "        vertical-align: middle;\n",
       "    }\n",
       "\n",
       "    .dataframe tbody tr th {\n",
       "        vertical-align: top;\n",
       "    }\n",
       "\n",
       "    .dataframe thead th {\n",
       "        text-align: right;\n",
       "    }\n",
       "</style>\n",
       "<table border=\"1\" class=\"dataframe\">\n",
       "  <thead>\n",
       "    <tr style=\"text-align: right;\">\n",
       "      <th></th>\n",
       "      <th>location</th>\n",
       "      <th>sequence</th>\n",
       "      <th>strand</th>\n",
       "      <th>tuscan</th>\n",
       "      <th>Discriminative</th>\n",
       "    </tr>\n",
       "  </thead>\n",
       "  <tbody>\n",
       "    <tr>\n",
       "      <th>0</th>\n",
       "      <td>215</td>\n",
       "      <td>AATAGTGGAGCGGATTCTGGAGG</td>\n",
       "      <td>+</td>\n",
       "      <td>4.038496</td>\n",
       "      <td>High</td>\n",
       "    </tr>\n",
       "    <tr>\n",
       "      <th>1</th>\n",
       "      <td>138</td>\n",
       "      <td>CGAGATCAGAAGTCCCTAAGAGG</td>\n",
       "      <td>+</td>\n",
       "      <td>4.030050</td>\n",
       "      <td>Low</td>\n",
       "    </tr>\n",
       "    <tr>\n",
       "      <th>2</th>\n",
       "      <td>540</td>\n",
       "      <td>GCAATTGGCGTCCTCATCGGAGG</td>\n",
       "      <td>+</td>\n",
       "      <td>3.244155</td>\n",
       "      <td>Low</td>\n",
       "    </tr>\n",
       "    <tr>\n",
       "      <th>3</th>\n",
       "      <td>80</td>\n",
       "      <td>CTTGGTCTGCAAATCGTTTGCGG</td>\n",
       "      <td>-</td>\n",
       "      <td>2.979192</td>\n",
       "      <td>Low</td>\n",
       "    </tr>\n",
       "    <tr>\n",
       "      <th>4</th>\n",
       "      <td>230</td>\n",
       "      <td>TCTGGAGGAGGAGTCCGATAAGG</td>\n",
       "      <td>+</td>\n",
       "      <td>2.856133</td>\n",
       "      <td>High</td>\n",
       "    </tr>\n",
       "  </tbody>\n",
       "</table>\n",
       "</div>"
      ],
      "text/plain": [
       "   location                 sequence strand    tuscan Discriminative\n",
       "0       215  AATAGTGGAGCGGATTCTGGAGG      +  4.038496           High\n",
       "1       138  CGAGATCAGAAGTCCCTAAGAGG      +  4.030050            Low\n",
       "2       540  GCAATTGGCGTCCTCATCGGAGG      +  3.244155            Low\n",
       "3        80  CTTGGTCTGCAAATCGTTTGCGG      -  2.979192            Low\n",
       "4       230  TCTGGAGGAGGAGTCCGATAAGG      +  2.856133           High"
      ]
     },
     "execution_count": 72,
     "metadata": {},
     "output_type": "execute_result"
    }
   ],
   "source": [
    "indexes = []\n",
    "for count, b in enumerate(HammingMatrix.min(axis=1)):\n",
    "    if b == 6:\n",
    "        indexes.append(count)\n",
    "H5N1.iloc[indexes].head()\n",
    "\n",
    "for index, row in H5N1.iterrows():\n",
    "    if index in indexes:\n",
    "        H5N1.loc[index,'Discriminative'] = \"High\"\n",
    "    else:\n",
    "        H5N1.loc[index,'Discriminative'] = \"Low\"\n",
    "\n",
    "H5N1.head()"
   ]
  },
  {
   "cell_type": "markdown",
   "metadata": {},
   "source": [
    "## Choosing Targets"
   ]
  },
  {
   "cell_type": "markdown",
   "metadata": {},
   "source": [
    "We can also visualise the top targets in each virus. Targets are displayed by position and score, and coloured based on their similarity to targets in the opposing genome. Optimal targets are therefore green markers at the top of the graph, which identify high scoring targets which are specific to their viral genome. "
   ]
  },
  {
   "cell_type": "code",
   "execution_count": 80,
   "metadata": {},
   "outputs": [
    {
     "data": {
      "image/png": "[encoded data removed]",
      "text/plain": [
       "<Figure size 1080.17x504 with 1 Axes>"
      ]
     },
     "metadata": {},
     "output_type": "display_data"
    }
   ],
   "source": [
    "H1N1[\"middle\"] = H1N1[\"location\"] + 12\n",
    "\n",
    "g = sns.lmplot('middle',\n",
    "               'tuscan',\n",
    "               data=H1N1,\n",
    "               fit_reg=False, \n",
    "               hue=\"Discriminative\",\n",
    "               markers=\"_\",\n",
    "               palette=sns.xkcd_palette(['green', 'red']),\n",
    "               height=7, aspect=2, \n",
    "               scatter_kws={'alpha':1})\n",
    "g.fig.suptitle(\"H1N1 Segment 8 Targets\")\n",
    "g.set(xlabel='Genomic Location', ylabel='Activity Score')\n",
    "# g.axes[0, 0].set_xlim([H1N1[\"Start\"].min()*0.9, H1N1[\"End\"].max()*1.03])\n",
    "# g.axes[0, 0].set_ylim([H1N1[\"TUSCAN_Score\"].min()*0.9, H1N1[\"TUSCAN_Score\"].max()*1.03])\n",
    "\n",
    "for index, row in H1N1.iterrows():\n",
    "    if row[\"Discriminative\"] ==\"High\":\n",
    "        g.axes[0, 0].add_patch(patches.Rectangle(xy=(row[\"location\"], row[\"tuscan\"]-0.01) ,width=23, height=0.02, linewidth=1, color='green', fill=True))\n",
    "    else:\n",
    "        g.axes[0, 0].add_patch(patches.Rectangle(xy=(row[\"location\"], row[\"tuscan\"]-0.01) ,width=23, height=0.02, linewidth=1, color='red', fill=True))"
   ]
  },
  {
   "cell_type": "code",
   "execution_count": 82,
   "metadata": {},
   "outputs": [
    {
     "data": {
      "image/png": "[encoded data removed]",
      "text/plain": [
       "<Figure size 1080.17x504 with 1 Axes>"
      ]
     },
     "metadata": {},
     "output_type": "display_data"
    }
   ],
   "source": [
    "H5N1[\"middle\"] = H5N1[\"location\"] + 12\n",
    "\n",
    "g = sns.lmplot('middle',\n",
    "               'tuscan',\n",
    "               data=H5N1,\n",
    "               fit_reg=False, \n",
    "               hue=\"Discriminative\",\n",
    "               markers=\"_\",\n",
    "               palette=sns.xkcd_palette(['green', 'red']),\n",
    "               height=7, aspect=2, \n",
    "               scatter_kws={'alpha':1})\n",
    "g.fig.suptitle(\"H5N1 Segment 8 Targets\")\n",
    "g.set(xlabel='Genomic Location', ylabel='Activity Score')\n",
    "# g.axes[0, 0].set_xlim([H1N1[\"Start\"].min()*0.9, H1N1[\"End\"].max()*1.03])\n",
    "# g.axes[0, 0].set_ylim([H1N1[\"TUSCAN_Score\"].min()*0.9, H1N1[\"TUSCAN_Score\"].max()*1.03])\n",
    "\n",
    "for index, row in H5N1.iterrows():\n",
    "    if row[\"Discriminative\"] ==\"High\":\n",
    "        g.axes[0, 0].add_patch(patches.Rectangle(xy=(row[\"location\"], row[\"tuscan\"]-0.01) ,width=23, height=0.02, linewidth=1, color='green', fill=True))\n",
    "    else:\n",
    "        g.axes[0, 0].add_patch(patches.Rectangle(xy=(row[\"location\"], row[\"tuscan\"]-0.01) ,width=23, height=0.02, linewidth=1, color='red', fill=True))"
   ]
  }
 ],
 "metadata": {
  "kernelspec": {
   "display_name": "Python 3",
   "language": "python",
   "name": "python3"
  },
  "language_info": {
   "codemirror_mode": {
    "name": "ipython",
    "version": 3
   },
   "file_extension": ".py",
   "mimetype": "text/x-python",
   "name": "python",
   "nbconvert_exporter": "python",
   "pygments_lexer": "ipython3",
   "version": "3.6.8"
  }
 },
 "nbformat": 4,
 "nbformat_minor": 2
}
