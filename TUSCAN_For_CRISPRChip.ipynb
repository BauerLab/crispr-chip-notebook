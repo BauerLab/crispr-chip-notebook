{
 "cells": [
  {
   "cell_type": "markdown",
   "metadata": {},
   "source": [
    "# Identifying CRISPR-Cas9 target-sites unique to H1N1 (Swine Flu) and H5N1 (Avian Flu)\n",
    "\n",
    "This is the Jupyter notebook for comparing two queries sent to TUSCAN's API, to find target sites specific to one virus with minimal off-targets in another. \n",
    "\n",
    "Our usecase here is to be able to identify and separate between viruses. This is achieved by finding targets specific to one virus but not another, such that binding of the CRISPR-Cas9 complex to the target site triggers a response detected by the user, identifying the virus. "
   ]
  },
  {
   "cell_type": "markdown",
   "metadata": {},
   "source": [
    "## Getting Started\n",
    "\n",
    "We start by importing the libraries responsible for recieveing, processing and plotting the data."
   ]
  },
  {
   "cell_type": "code",
   "execution_count": 2,
   "metadata": {},
   "outputs": [],
   "source": [
    "import sys\n",
    "import matplotlib.pyplot as plt\n",
    "import numpy as np\n",
    "import seaborn as sns; sns.set()\n",
    "import pandas as pd"
   ]
  },
  {
   "cell_type": "markdown",
   "metadata": {},
   "source": [
    "## Submitting to TUSCAN API (to do)"
   ]
  },
  {
   "cell_type": "code",
   "execution_count": 11,
   "metadata": {},
   "outputs": [],
   "source": [
    "# To do"
   ]
  },
  {
   "cell_type": "markdown",
   "metadata": {},
   "source": [
    "## Retrieving results\n",
    "\n",
    "(For the time being, code starts here since the API doesn't work. Data is taken from H1N1_8.out and H5N1_8.out)\n",
    "\n"
   ]
  },
  {
   "cell_type": "markdown",
   "metadata": {},
   "source": [
    "## Analysing the data\n",
    "\n",
    "We first load the data into a pandas dataframe. "
   ]
  },
  {
   "cell_type": "code",
   "execution_count": 8,
   "metadata": {},
   "outputs": [
    {
     "data": {
      "text/html": [
       "<div>\n",
       "<style scoped>\n",
       "    .dataframe tbody tr th:only-of-type {\n",
       "        vertical-align: middle;\n",
       "    }\n",
       "\n",
       "    .dataframe tbody tr th {\n",
       "        vertical-align: top;\n",
       "    }\n",
       "\n",
       "    .dataframe thead th {\n",
       "        text-align: right;\n",
       "    }\n",
       "</style>\n",
       "<table border=\"1\" class=\"dataframe\">\n",
       "  <thead>\n",
       "    <tr style=\"text-align: right;\">\n",
       "      <th></th>\n",
       "      <th>Chrom</th>\n",
       "      <th>Start</th>\n",
       "      <th>End</th>\n",
       "      <th>Strand</th>\n",
       "      <th>Candidate_sgRNA</th>\n",
       "      <th>TUSCAN_Score</th>\n",
       "    </tr>\n",
       "  </thead>\n",
       "  <tbody>\n",
       "    <tr>\n",
       "      <th>0</th>\n",
       "      <td>8</td>\n",
       "      <td>9</td>\n",
       "      <td>31</td>\n",
       "      <td>+</td>\n",
       "      <td>CAACACCATGTCAAGCTTTCAGG</td>\n",
       "      <td>0.898542</td>\n",
       "    </tr>\n",
       "    <tr>\n",
       "      <th>1</th>\n",
       "      <td>8</td>\n",
       "      <td>55</td>\n",
       "      <td>77</td>\n",
       "      <td>+</td>\n",
       "      <td>CGCAAGCGATTTGCAGACAATGG</td>\n",
       "      <td>1.121761</td>\n",
       "    </tr>\n",
       "    <tr>\n",
       "      <th>2</th>\n",
       "      <td>8</td>\n",
       "      <td>61</td>\n",
       "      <td>83</td>\n",
       "      <td>+</td>\n",
       "      <td>CGATTTGCAGACAATGGACTGGG</td>\n",
       "      <td>0.712493</td>\n",
       "    </tr>\n",
       "    <tr>\n",
       "      <th>3</th>\n",
       "      <td>8</td>\n",
       "      <td>112</td>\n",
       "      <td>134</td>\n",
       "      <td>+</td>\n",
       "      <td>CGAGATCAAAAGTCCTTAAAAGG</td>\n",
       "      <td>1.541631</td>\n",
       "    </tr>\n",
       "    <tr>\n",
       "      <th>4</th>\n",
       "      <td>8</td>\n",
       "      <td>130</td>\n",
       "      <td>152</td>\n",
       "      <td>+</td>\n",
       "      <td>AAAGGAAGAGGCAACACCCTTGG</td>\n",
       "      <td>1.590389</td>\n",
       "    </tr>\n",
       "  </tbody>\n",
       "</table>\n",
       "</div>"
      ],
      "text/plain": [
       "   Chrom  Start  End Strand          Candidate_sgRNA  TUSCAN_Score\n",
       "0      8      9   31      +  CAACACCATGTCAAGCTTTCAGG      0.898542\n",
       "1      8     55   77      +  CGCAAGCGATTTGCAGACAATGG      1.121761\n",
       "2      8     61   83      +  CGATTTGCAGACAATGGACTGGG      0.712493\n",
       "3      8    112  134      +  CGAGATCAAAAGTCCTTAAAAGG      1.541631\n",
       "4      8    130  152      +  AAAGGAAGAGGCAACACCCTTGG      1.590389"
      ]
     },
     "execution_count": 8,
     "metadata": {},
     "output_type": "execute_result"
    }
   ],
   "source": [
    "H1N1_8 = pd.read_csv('H1N1_8.out', sep=\"\\s+\")\n",
    "H1N1_8.head()"
   ]
  },
  {
   "cell_type": "code",
   "execution_count": 9,
   "metadata": {},
   "outputs": [
    {
     "data": {
      "text/html": [
       "<div>\n",
       "<style scoped>\n",
       "    .dataframe tbody tr th:only-of-type {\n",
       "        vertical-align: middle;\n",
       "    }\n",
       "\n",
       "    .dataframe tbody tr th {\n",
       "        vertical-align: top;\n",
       "    }\n",
       "\n",
       "    .dataframe thead th {\n",
       "        text-align: right;\n",
       "    }\n",
       "</style>\n",
       "<table border=\"1\" class=\"dataframe\">\n",
       "  <thead>\n",
       "    <tr style=\"text-align: right;\">\n",
       "      <th></th>\n",
       "      <th>Chrom</th>\n",
       "      <th>Start</th>\n",
       "      <th>End</th>\n",
       "      <th>Strand</th>\n",
       "      <th>Candidate_sgRNA</th>\n",
       "      <th>TUSCAN_Score</th>\n",
       "    </tr>\n",
       "  </thead>\n",
       "  <tbody>\n",
       "    <tr>\n",
       "      <th>0</th>\n",
       "      <td>8</td>\n",
       "      <td>215</td>\n",
       "      <td>237</td>\n",
       "      <td>+</td>\n",
       "      <td>AATAGTGGAGCGGATTCTGGAGG</td>\n",
       "      <td>4.003982</td>\n",
       "    </tr>\n",
       "    <tr>\n",
       "      <th>1</th>\n",
       "      <td>8</td>\n",
       "      <td>347</td>\n",
       "      <td>369</td>\n",
       "      <td>+</td>\n",
       "      <td>AGGTTCCCTTTGCATCAAAATGG</td>\n",
       "      <td>0.325753</td>\n",
       "    </tr>\n",
       "    <tr>\n",
       "      <th>2</th>\n",
       "      <td>8</td>\n",
       "      <td>409</td>\n",
       "      <td>431</td>\n",
       "      <td>+</td>\n",
       "      <td>ACTTCAGTGTGATTTTTGACCGG</td>\n",
       "      <td>1.358382</td>\n",
       "    </tr>\n",
       "    <tr>\n",
       "      <th>3</th>\n",
       "      <td>8</td>\n",
       "      <td>450</td>\n",
       "      <td>472</td>\n",
       "      <td>+</td>\n",
       "      <td>CTTAGAGCTTTCACAGAAGAAGG</td>\n",
       "      <td>0.697172</td>\n",
       "    </tr>\n",
       "    <tr>\n",
       "      <th>4</th>\n",
       "      <td>8</td>\n",
       "      <td>492</td>\n",
       "      <td>514</td>\n",
       "      <td>+</td>\n",
       "      <td>TCACCATTACCTTCTCTTCCAGG</td>\n",
       "      <td>2.114061</td>\n",
       "    </tr>\n",
       "  </tbody>\n",
       "</table>\n",
       "</div>"
      ],
      "text/plain": [
       "   Chrom  Start  End Strand          Candidate_sgRNA  TUSCAN_Score\n",
       "0      8    215  237      +  AATAGTGGAGCGGATTCTGGAGG      4.003982\n",
       "1      8    347  369      +  AGGTTCCCTTTGCATCAAAATGG      0.325753\n",
       "2      8    409  431      +  ACTTCAGTGTGATTTTTGACCGG      1.358382\n",
       "3      8    450  472      +  CTTAGAGCTTTCACAGAAGAAGG      0.697172\n",
       "4      8    492  514      +  TCACCATTACCTTCTCTTCCAGG      2.114061"
      ]
     },
     "execution_count": 9,
     "metadata": {},
     "output_type": "execute_result"
    }
   ],
   "source": [
    "H5N1_8 = pd.read_csv('H5N1_8.out', sep=\"\\s+\")\n",
    "H5N1_8.head()"
   ]
  },
  {
   "cell_type": "markdown",
   "metadata": {},
   "source": [
    "## Identify targets unique to H1N1 segment 8\n",
    "\n",
    "We join the tables and exclude those targets from H1N1 which also appear in H5N1"
   ]
  },
  {
   "cell_type": "code",
   "execution_count": 21,
   "metadata": {},
   "outputs": [],
   "source": [
    "H1N1_8_unique = H1N1_8[~H1N1_8.Candidate_sgRNA.isin(H5N1_8.Candidate_sgRNA)]"
   ]
  },
  {
   "cell_type": "markdown",
   "metadata": {},
   "source": [
    "## Identify targets unique to H5N1 segment 8\n",
    "\n",
    "We join the tables and exclude those targets from H5N1 which also appear in H1N1"
   ]
  },
  {
   "cell_type": "code",
   "execution_count": 22,
   "metadata": {},
   "outputs": [],
   "source": [
    "H5N1_8_unique = H5N1_8[~H5N1_8.Candidate_sgRNA.isin(H1N1_8.Candidate_sgRNA)]"
   ]
  },
  {
   "cell_type": "markdown",
   "metadata": {},
   "source": [
    "## Generating a heatmap to identify similar targets in H1N1 and H5N1 using Hamming Distance\n",
    "\n",
    "Targets which have off-targets on the other virus are poor choices due to false positives, therefore we desire the most unique targets from each virus. These targets are those with the highest hamming distance from all targets in the other viral segment. From these, we desire the targets with the highest activity, ie the most likely to be effectively activated by CRISPR treatment."
   ]
  },
  {
   "cell_type": "code",
   "execution_count": 28,
   "metadata": {},
   "outputs": [
    {
     "data": {
      "text/html": [
       "<div>\n",
       "<style scoped>\n",
       "    .dataframe tbody tr th:only-of-type {\n",
       "        vertical-align: middle;\n",
       "    }\n",
       "\n",
       "    .dataframe tbody tr th {\n",
       "        vertical-align: top;\n",
       "    }\n",
       "\n",
       "    .dataframe thead th {\n",
       "        text-align: right;\n",
       "    }\n",
       "</style>\n",
       "<table border=\"1\" class=\"dataframe\">\n",
       "  <thead>\n",
       "    <tr style=\"text-align: right;\">\n",
       "      <th></th>\n",
       "      <th>Chrom</th>\n",
       "      <th>Start</th>\n",
       "      <th>End</th>\n",
       "      <th>Strand</th>\n",
       "      <th>Candidate_sgRNA</th>\n",
       "      <th>TUSCAN_Score</th>\n",
       "    </tr>\n",
       "  </thead>\n",
       "  <tbody>\n",
       "    <tr>\n",
       "      <th>45</th>\n",
       "      <td>8</td>\n",
       "      <td>673</td>\n",
       "      <td>695</td>\n",
       "      <td>+</td>\n",
       "      <td>GCAATTGGGACAGAAATTTGAGG</td>\n",
       "      <td>3.817165</td>\n",
       "    </tr>\n",
       "    <tr>\n",
       "      <th>23</th>\n",
       "      <td>8</td>\n",
       "      <td>529</td>\n",
       "      <td>551</td>\n",
       "      <td>+</td>\n",
       "      <td>GCAGTTGGGGTCCTCATCGGAGG</td>\n",
       "      <td>3.334973</td>\n",
       "    </tr>\n",
       "    <tr>\n",
       "      <th>76</th>\n",
       "      <td>8</td>\n",
       "      <td>108</td>\n",
       "      <td>130</td>\n",
       "      <td>-</td>\n",
       "      <td>TTAAGGACTTTTGATCTCGGCGG</td>\n",
       "      <td>3.124494</td>\n",
       "    </tr>\n",
       "    <tr>\n",
       "      <th>35</th>\n",
       "      <td>8</td>\n",
       "      <td>435</td>\n",
       "      <td>457</td>\n",
       "      <td>+</td>\n",
       "      <td>ACTACTAAGGGCTTTCACTGAGG</td>\n",
       "      <td>2.935428</td>\n",
       "    </tr>\n",
       "    <tr>\n",
       "      <th>33</th>\n",
       "      <td>8</td>\n",
       "      <td>345</td>\n",
       "      <td>367</td>\n",
       "      <td>+</td>\n",
       "      <td>TTGCGTGCGATTGGACCAGGCGG</td>\n",
       "      <td>2.810570</td>\n",
       "    </tr>\n",
       "  </tbody>\n",
       "</table>\n",
       "</div>"
      ],
      "text/plain": [
       "    Chrom  Start  End Strand          Candidate_sgRNA  TUSCAN_Score\n",
       "45      8    673  695      +  GCAATTGGGACAGAAATTTGAGG      3.817165\n",
       "23      8    529  551      +  GCAGTTGGGGTCCTCATCGGAGG      3.334973\n",
       "76      8    108  130      -  TTAAGGACTTTTGATCTCGGCGG      3.124494\n",
       "35      8    435  457      +  ACTACTAAGGGCTTTCACTGAGG      2.935428\n",
       "33      8    345  367      +  TTGCGTGCGATTGGACCAGGCGG      2.810570"
      ]
     },
     "execution_count": 28,
     "metadata": {},
     "output_type": "execute_result"
    }
   ],
   "source": [
    "#sorting dataset by TUSCAN score\n",
    "H1N1 = H1N1_8_unique.sort_values(by=[\"TUSCAN_Score\"], ascending=False)\n",
    "H1N1.head()"
   ]
  },
  {
   "cell_type": "code",
   "execution_count": 29,
   "metadata": {},
   "outputs": [
    {
     "data": {
      "text/html": [
       "<div>\n",
       "<style scoped>\n",
       "    .dataframe tbody tr th:only-of-type {\n",
       "        vertical-align: middle;\n",
       "    }\n",
       "\n",
       "    .dataframe tbody tr th {\n",
       "        vertical-align: top;\n",
       "    }\n",
       "\n",
       "    .dataframe thead th {\n",
       "        text-align: right;\n",
       "    }\n",
       "</style>\n",
       "<table border=\"1\" class=\"dataframe\">\n",
       "  <thead>\n",
       "    <tr style=\"text-align: right;\">\n",
       "      <th></th>\n",
       "      <th>Chrom</th>\n",
       "      <th>Start</th>\n",
       "      <th>End</th>\n",
       "      <th>Strand</th>\n",
       "      <th>Candidate_sgRNA</th>\n",
       "      <th>TUSCAN_Score</th>\n",
       "    </tr>\n",
       "  </thead>\n",
       "  <tbody>\n",
       "    <tr>\n",
       "      <th>22</th>\n",
       "      <td>8</td>\n",
       "      <td>138</td>\n",
       "      <td>160</td>\n",
       "      <td>+</td>\n",
       "      <td>CGAGATCAGAAGTCCCTAAGAGG</td>\n",
       "      <td>4.036682</td>\n",
       "    </tr>\n",
       "    <tr>\n",
       "      <th>0</th>\n",
       "      <td>8</td>\n",
       "      <td>215</td>\n",
       "      <td>237</td>\n",
       "      <td>+</td>\n",
       "      <td>AATAGTGGAGCGGATTCTGGAGG</td>\n",
       "      <td>4.003982</td>\n",
       "    </tr>\n",
       "    <tr>\n",
       "      <th>43</th>\n",
       "      <td>8</td>\n",
       "      <td>540</td>\n",
       "      <td>562</td>\n",
       "      <td>+</td>\n",
       "      <td>GCAATTGGCGTCCTCATCGGAGG</td>\n",
       "      <td>3.326543</td>\n",
       "    </tr>\n",
       "    <tr>\n",
       "      <th>57</th>\n",
       "      <td>8</td>\n",
       "      <td>80</td>\n",
       "      <td>102</td>\n",
       "      <td>-</td>\n",
       "      <td>CTTGGTCTGCAAATCGTTTGCGG</td>\n",
       "      <td>2.970666</td>\n",
       "    </tr>\n",
       "    <tr>\n",
       "      <th>31</th>\n",
       "      <td>8</td>\n",
       "      <td>230</td>\n",
       "      <td>252</td>\n",
       "      <td>+</td>\n",
       "      <td>TCTGGAGGAGGAGTCCGATAAGG</td>\n",
       "      <td>2.711539</td>\n",
       "    </tr>\n",
       "  </tbody>\n",
       "</table>\n",
       "</div>"
      ],
      "text/plain": [
       "    Chrom  Start  End Strand          Candidate_sgRNA  TUSCAN_Score\n",
       "22      8    138  160      +  CGAGATCAGAAGTCCCTAAGAGG      4.036682\n",
       "0       8    215  237      +  AATAGTGGAGCGGATTCTGGAGG      4.003982\n",
       "43      8    540  562      +  GCAATTGGCGTCCTCATCGGAGG      3.326543\n",
       "57      8     80  102      -  CTTGGTCTGCAAATCGTTTGCGG      2.970666\n",
       "31      8    230  252      +  TCTGGAGGAGGAGTCCGATAAGG      2.711539"
      ]
     },
     "execution_count": 29,
     "metadata": {},
     "output_type": "execute_result"
    }
   ],
   "source": [
    "H5N1 = H5N1_8_unique.sort_values(by=[\"TUSCAN_Score\"], ascending=False)\n",
    "H5N1.head()"
   ]
  },
  {
   "cell_type": "code",
   "execution_count": 39,
   "metadata": {},
   "outputs": [],
   "source": [
    "# Creating a Hamming Distance Matrix using the targets ordered as above\n",
    "HammingMatrix = []\n",
    "HammingRow = []\n",
    "for index_H5N1, row_H5N1 in H5N1.iterrows():\n",
    "    HammingRow = []\n",
    "    for index_H1N1, row_H1N1 in H1N1.iterrows():\n",
    "        #Calculate Hamming Distance\n",
    "        x = sum(ch1 != ch2 for ch1, ch2 in zip(row_H5N1[\"Candidate_sgRNA\"], row_H1N1[\"Candidate_sgRNA\"])) \n",
    "        if x > 5: #All targets with more than 5 nucleotides different are considered unique enough\n",
    "            x = 6\n",
    "        HammingRow.append(x)\n",
    "    HammingMatrix.append(HammingRow) \n",
    "\n",
    "HammingMatrix = np.array(HammingMatrix)"
   ]
  },
  {
   "cell_type": "markdown",
   "metadata": {},
   "source": [
    "### Using the HammingMatrix, we can create a heatmap \n",
    "\n",
    "The colour of the square indicates the similarity between the coordinate targets. Ideal targets are those which have no dark squares in their column/row.\n"
   ]
  },
  {
   "cell_type": "code",
   "execution_count": 49,
   "metadata": {},
   "outputs": [
    {
     "data": {
      "image/png": "[encoded data removed]",
      "text/plain": [
       "<Figure size 1440x1080 with 2 Axes>"
      ]
     },
     "metadata": {
      "needs_background": "light"
     },
     "output_type": "display_data"
    }
   ],
   "source": [
    "f, ax = plt.subplots(1, 1, figsize = (20, 15))\n",
    "ax = sns.heatmap(HammingMatrix, cbar_kws={'label': 'Hamming Distance'})\n",
    "ax.set_xticks(np.arange(len(H1N1.index))) #columns are H1N1\n",
    "ax.set_yticks(np.arange(len(H5N1.index))) #rows are H5N1\n",
    "ax.set_xticklabels([round(float(row[\"TUSCAN_Score\"]), 3) for index, row in H1N1.iterrows()], rotation=90, fontsize = 'small')\n",
    "ax.set_yticklabels([round(float(row[\"TUSCAN_Score\"]), 3) for index, row in H5N1.iterrows()], rotation=0, fontsize = 'small')\n",
    "ax.set_title(\"Similarity between Segment 8 in H1N1 and H5N1\")\n",
    "ax.set(xlabel=\"H1N1 Segment 8 Targets (by TUSCAN score)\", ylabel=\"H5N1 Segment 8 Targets (by TUSCAN score)\")\n",
    "plt.show()"
   ]
  },
  {
   "cell_type": "markdown",
   "metadata": {},
   "source": [
    "## Extracting the most active and most unique targets from each virus\n",
    "\n",
    "We would like the targets with the highest TUSCAN score and with a hamming distance of at least 6 against all opposing viral targets. "
   ]
  },
  {
   "cell_type": "markdown",
   "metadata": {},
   "source": [
    "##### H1N1 Targets:"
   ]
  },
  {
   "cell_type": "code",
   "execution_count": 52,
   "metadata": {},
   "outputs": [
    {
     "data": {
      "text/html": [
       "<div>\n",
       "<style scoped>\n",
       "    .dataframe tbody tr th:only-of-type {\n",
       "        vertical-align: middle;\n",
       "    }\n",
       "\n",
       "    .dataframe tbody tr th {\n",
       "        vertical-align: top;\n",
       "    }\n",
       "\n",
       "    .dataframe thead th {\n",
       "        text-align: right;\n",
       "    }\n",
       "</style>\n",
       "<table border=\"1\" class=\"dataframe\">\n",
       "  <thead>\n",
       "    <tr style=\"text-align: right;\">\n",
       "      <th></th>\n",
       "      <th>Chrom</th>\n",
       "      <th>Start</th>\n",
       "      <th>End</th>\n",
       "      <th>Strand</th>\n",
       "      <th>Candidate_sgRNA</th>\n",
       "      <th>TUSCAN_Score</th>\n",
       "    </tr>\n",
       "  </thead>\n",
       "  <tbody>\n",
       "    <tr>\n",
       "      <th>45</th>\n",
       "      <td>8</td>\n",
       "      <td>673</td>\n",
       "      <td>695</td>\n",
       "      <td>+</td>\n",
       "      <td>GCAATTGGGACAGAAATTTGAGG</td>\n",
       "      <td>3.817165</td>\n",
       "    </tr>\n",
       "    <tr>\n",
       "      <th>76</th>\n",
       "      <td>8</td>\n",
       "      <td>108</td>\n",
       "      <td>130</td>\n",
       "      <td>-</td>\n",
       "      <td>TTAAGGACTTTTGATCTCGGCGG</td>\n",
       "      <td>3.124494</td>\n",
       "    </tr>\n",
       "    <tr>\n",
       "      <th>35</th>\n",
       "      <td>8</td>\n",
       "      <td>435</td>\n",
       "      <td>457</td>\n",
       "      <td>+</td>\n",
       "      <td>ACTACTAAGGGCTTTCACTGAGG</td>\n",
       "      <td>2.935428</td>\n",
       "    </tr>\n",
       "    <tr>\n",
       "      <th>33</th>\n",
       "      <td>8</td>\n",
       "      <td>345</td>\n",
       "      <td>367</td>\n",
       "      <td>+</td>\n",
       "      <td>TTGCGTGCGATTGGACCAGGCGG</td>\n",
       "      <td>2.810570</td>\n",
       "    </tr>\n",
       "    <tr>\n",
       "      <th>30</th>\n",
       "      <td>8</td>\n",
       "      <td>267</td>\n",
       "      <td>289</td>\n",
       "      <td>+</td>\n",
       "      <td>CCTTTCTGACATGACCCTCGAGG</td>\n",
       "      <td>2.808692</td>\n",
       "    </tr>\n",
       "  </tbody>\n",
       "</table>\n",
       "</div>"
      ],
      "text/plain": [
       "    Chrom  Start  End Strand          Candidate_sgRNA  TUSCAN_Score\n",
       "45      8    673  695      +  GCAATTGGGACAGAAATTTGAGG      3.817165\n",
       "76      8    108  130      -  TTAAGGACTTTTGATCTCGGCGG      3.124494\n",
       "35      8    435  457      +  ACTACTAAGGGCTTTCACTGAGG      2.935428\n",
       "33      8    345  367      +  TTGCGTGCGATTGGACCAGGCGG      2.810570\n",
       "30      8    267  289      +  CCTTTCTGACATGACCCTCGAGG      2.808692"
      ]
     },
     "execution_count": 52,
     "metadata": {},
     "output_type": "execute_result"
    }
   ],
   "source": [
    "indexes = []\n",
    "for count, b in enumerate(HammingMatrix.min(axis=0)):\n",
    "    if b == 6:\n",
    "        indexes.append(count)\n",
    "H1N1.iloc[indexes].head()"
   ]
  },
  {
   "cell_type": "markdown",
   "metadata": {},
   "source": [
    "##### H5N1 Targets:"
   ]
  },
  {
   "cell_type": "code",
   "execution_count": 53,
   "metadata": {},
   "outputs": [
    {
     "data": {
      "text/html": [
       "<div>\n",
       "<style scoped>\n",
       "    .dataframe tbody tr th:only-of-type {\n",
       "        vertical-align: middle;\n",
       "    }\n",
       "\n",
       "    .dataframe tbody tr th {\n",
       "        vertical-align: top;\n",
       "    }\n",
       "\n",
       "    .dataframe thead th {\n",
       "        text-align: right;\n",
       "    }\n",
       "</style>\n",
       "<table border=\"1\" class=\"dataframe\">\n",
       "  <thead>\n",
       "    <tr style=\"text-align: right;\">\n",
       "      <th></th>\n",
       "      <th>Chrom</th>\n",
       "      <th>Start</th>\n",
       "      <th>End</th>\n",
       "      <th>Strand</th>\n",
       "      <th>Candidate_sgRNA</th>\n",
       "      <th>TUSCAN_Score</th>\n",
       "    </tr>\n",
       "  </thead>\n",
       "  <tbody>\n",
       "    <tr>\n",
       "      <th>0</th>\n",
       "      <td>8</td>\n",
       "      <td>215</td>\n",
       "      <td>237</td>\n",
       "      <td>+</td>\n",
       "      <td>AATAGTGGAGCGGATTCTGGAGG</td>\n",
       "      <td>4.003982</td>\n",
       "    </tr>\n",
       "    <tr>\n",
       "      <th>31</th>\n",
       "      <td>8</td>\n",
       "      <td>230</td>\n",
       "      <td>252</td>\n",
       "      <td>+</td>\n",
       "      <td>TCTGGAGGAGGAGTCCGATAAGG</td>\n",
       "      <td>2.711539</td>\n",
       "    </tr>\n",
       "    <tr>\n",
       "      <th>36</th>\n",
       "      <td>8</td>\n",
       "      <td>323</td>\n",
       "      <td>345</td>\n",
       "      <td>+</td>\n",
       "      <td>GCTCATGCCCAAGCAGAAAGTGG</td>\n",
       "      <td>2.548915</td>\n",
       "    </tr>\n",
       "    <tr>\n",
       "      <th>40</th>\n",
       "      <td>8</td>\n",
       "      <td>461</td>\n",
       "      <td>483</td>\n",
       "      <td>+</td>\n",
       "      <td>CACAGAAGAAGGAGCAATCGTGG</td>\n",
       "      <td>2.467114</td>\n",
       "    </tr>\n",
       "    <tr>\n",
       "      <th>44</th>\n",
       "      <td>8</td>\n",
       "      <td>614</td>\n",
       "      <td>636</td>\n",
       "      <td>+</td>\n",
       "      <td>CGTTTGGAGAAGCAGTGATGAGG</td>\n",
       "      <td>2.164712</td>\n",
       "    </tr>\n",
       "  </tbody>\n",
       "</table>\n",
       "</div>"
      ],
      "text/plain": [
       "    Chrom  Start  End Strand          Candidate_sgRNA  TUSCAN_Score\n",
       "0       8    215  237      +  AATAGTGGAGCGGATTCTGGAGG      4.003982\n",
       "31      8    230  252      +  TCTGGAGGAGGAGTCCGATAAGG      2.711539\n",
       "36      8    323  345      +  GCTCATGCCCAAGCAGAAAGTGG      2.548915\n",
       "40      8    461  483      +  CACAGAAGAAGGAGCAATCGTGG      2.467114\n",
       "44      8    614  636      +  CGTTTGGAGAAGCAGTGATGAGG      2.164712"
      ]
     },
     "execution_count": 53,
     "metadata": {},
     "output_type": "execute_result"
    }
   ],
   "source": [
    "indexes = []\n",
    "for count, b in enumerate(HammingMatrix.min(axis=1)):\n",
    "    if b == 6:\n",
    "        indexes.append(count)\n",
    "H5N1.iloc[indexes].head()"
   ]
  }
 ],
 "metadata": {
  "kernelspec": {
   "display_name": "Python 3",
   "language": "python",
   "name": "python3"
  },
  "language_info": {
   "codemirror_mode": {
    "name": "ipython",
    "version": 3
   },
   "file_extension": ".py",
   "mimetype": "text/x-python",
   "name": "python",
   "nbconvert_exporter": "python",
   "pygments_lexer": "ipython3",
   "version": "3.6.8"
  }
 },
 "nbformat": 4,
 "nbformat_minor": 2
}
